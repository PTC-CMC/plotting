{
 "cells": [
  {
   "cell_type": "markdown",
   "metadata": {},
   "source": [
    "# Example: Data Fitting\n",
    "In this example, we will generate data, plot this data, and then use the scipy optimize functions to fit an equation to the data. "
   ]
  },
  {
   "cell_type": "code",
   "execution_count": 11,
   "metadata": {
    "collapsed": true
   },
   "outputs": [],
   "source": [
    "import matplotlib.pyplot as plt\n",
    "import numpy as np"
   ]
  },
  {
   "cell_type": "markdown",
   "metadata": {},
   "source": [
    "First, let us generate some data points that will be used as input for data fitting. Here, we will simply generate a set of points that follow the Lennard-Jones equation.  "
   ]
  },
  {
   "cell_type": "code",
   "execution_count": 12,
   "metadata": {
    "collapsed": false
   },
   "outputs": [],
   "source": [
    "#define target sigma and epsilon values for the Lennard-Jones equation\n",
    "sigma_data = 1.392\n",
    "epsilon_data = 2.239\n",
    "\n",
    "#define the range for which we will generate data\n",
    "r_init = 0.9\n",
    "r_final = 3.0\n",
    "r_step = 30\n",
    "dr = (r_final-r_init)/r_step\n",
    "\n",
    "#create two list\n",
    "r_data = []\n",
    "U_data = []\n",
    "\n",
    "#populate the arrays with values from the Lennard-Jones equation\n",
    "for i in range(0, r_step):\n",
    "    r = r_init + i*dr\n",
    "    r_data.append(r)\n",
    "    U_temp = 4.0*epsilon_data*( (sigma_data/r)**12.0 - (sigma_data/r)**6.0)\n",
    "    U_data.append(U_temp)"
   ]
  },
  {
   "cell_type": "markdown",
   "metadata": {},
   "source": [
    "Let us now use matplotlib to plot the data we just generated."
   ]
  },
  {
   "cell_type": "code",
   "execution_count": 24,
   "metadata": {
    "collapsed": false
   },
   "outputs": [
    {
     "data": {
      "image/png": "[encoded data removed]",
      "text/plain": [
       "<matplotlib.figure.Figure at 0x11c0898d0>"
      ]
     },
     "metadata": {},
     "output_type": "display_data"
    }
   ],
   "source": [
    "plt.figure()\n",
    "plt.plot(r_data, U_data, label = \"reference data\", markeredgecolor= 'black', \n",
    "         markersize= 7, markerfacecolor='white', marker='o', ls='-', lw=3, color='Red')\n",
    "\n",
    "plt.xlabel('r', fontsize= 16)\n",
    "plt.ylabel('U(r)', fontsize =16)\n",
    "\n",
    "plt.ylim(-3,14)\n",
    "\n",
    "plt.legend(loc=1, fontsize =16)\n",
    "plt.show()"
   ]
  },
  {
   "cell_type": "markdown",
   "metadata": {},
   "source": [
    "In order to fit this data, we need to define a residual function for the least squares analysis. Here, we will just define the difference between the the value of a data point (`U_known`) and the value that results from the Lennard Jones equation using the parameters being optimized (`U_test`)."
   ]
  },
  {
   "cell_type": "code",
   "execution_count": 26,
   "metadata": {
    "collapsed": true
   },
   "outputs": [],
   "source": [
    "def residual_function(p, U, r):\n",
    "    epsilon, sigma = p\n",
    "    U_known = U\n",
    "    U_test = 4.0*epsilon*( (sigma/r)**(12) - (sigma/r)**(6))\n",
    "    err = U_known - U_test\n",
    "\n",
    "    return err"
   ]
  },
  {
   "cell_type": "markdown",
   "metadata": {},
   "source": [
    "With the residual defined, we can then set initial conditions and call the optimization scheme. Note, we will convert the lists we defined earlier (U_data and r_data) to allow us more control over the data (discussed later). "
   ]
  },
  {
   "cell_type": "code",
   "execution_count": 27,
   "metadata": {
    "collapsed": false
   },
   "outputs": [
    {
     "name": "stdout",
     "output_type": "stream",
     "text": [
      "epsilon, known =  2.239  || epsilon, fitted 2.239\n",
      "sigma, known =  1.392  || sigma, fitted 1.392\n"
     ]
    }
   ],
   "source": [
    "from scipy.optimize import leastsq\n",
    "\n",
    "#convert our lists to np arrays\n",
    "Ud = np.array(U_data)\n",
    "rd = np.array(r_data)\n",
    "\n",
    "#initial guesses\n",
    "epsilon_init = 1.0\n",
    "sigma_init = 1.0\n",
    "p0 = [epsilon_init, sigma_init]\n",
    "\n",
    "#calling the leastsq fitting function\n",
    "plsq = leastsq(residual_function, p0, args=(Ud, rd))\n",
    "\n",
    "#extract the fitted parameters\n",
    "epsilon_fitted = plsq[0][0]\n",
    "sigma_fitted = plsq[0][1]\n",
    "\n",
    "#print out the values\n",
    "print('epsilon, known = ', epsilon_data, ' || epsilon, fitted', epsilon_fitted)\n",
    "print('sigma, known = ', sigma_data, ' || sigma, fitted', sigma_fitted)"
   ]
  },
  {
   "cell_type": "markdown",
   "metadata": {},
   "source": [
    "# Adding Noise\n",
    "\n",
    "The least squares fitting was able to reproduce the known values accurately.  To make the problem more realistic, we can add  noise to the input data.  We will add noise to each value of `U` by calling a random function that generates a Gaussian distribution.  We set the mean of the Gaussian to zero and vary the standard deviation dictate the overall noise.  Note the random noise is scaled by the value of `U` for each data point."
   ]
  },
  {
   "cell_type": "code",
   "execution_count": 30,
   "metadata": {
    "collapsed": false
   },
   "outputs": [
    {
     "data": {
      "image/png": "[encoded data removed]",
      "text/plain": [
       "<matplotlib.figure.Figure at 0x11cafdeb8>"
      ]
     },
     "metadata": {},
     "output_type": "display_data"
    }
   ],
   "source": [
    "import random\n",
    "\n",
    "random.seed(12345)\n",
    "\n",
    "#create two list\n",
    "r_data = []\n",
    "U_data = []\n",
    "\n",
    "noise_level = 0.2 \n",
    "\n",
    "#populate the arrays with values from the Lennard-Jones equation\n",
    "for i in range(0, r_step):\n",
    "    r = r_init + i*dr\n",
    "    r_data.append(r)\n",
    "    U_temp = 4.0*epsilon_data*( (sigma_data/r)**12.0 - (sigma_data/r)**6.0)\n",
    "    U_temp =  U_temp + random.gauss(0,noise_level)*U_temp\n",
    "    U_data.append(U_temp)\n",
    "    \n",
    "#convert to np arrays\n",
    "Ud = np.array(U_data)\n",
    "rd = np.array(r_data)\n",
    "\n",
    "plt.figure()\n",
    "plt.plot(r_data, U_data, label = \"reference data\", markeredgecolor= 'black', \n",
    "         markersize= 7, markerfacecolor='white', marker='o', ls='-', lw=3, color='Red')\n",
    "\n",
    "plt.xlabel('r', fontsize= 16)\n",
    "plt.ylabel('U(r)', fontsize =16)\n",
    "\n",
    "plt.ylim(-3,14)\n",
    "\n",
    "plt.legend(loc=1, fontsize =16)\n",
    "plt.show()"
   ]
  },
  {
   "cell_type": "markdown",
   "metadata": {},
   "source": [
    "We can call the least squares fitting procedure again, using the same residual and starting guesses."
   ]
  },
  {
   "cell_type": "code",
   "execution_count": 31,
   "metadata": {
    "collapsed": false
   },
   "outputs": [
    {
     "name": "stdout",
     "output_type": "stream",
     "text": [
      "epsilon, known =  2.239  || epsilon, fitted 1.07734234268\n",
      "sigma, known =  1.392  || sigma, fitted 1.47409019133\n"
     ]
    },
    {
     "data": {
      "image/png": "[encoded data removed]",
      "text/plain": [
       "<matplotlib.figure.Figure at 0x11cbf9ba8>"
      ]
     },
     "metadata": {},
     "output_type": "display_data"
    }
   ],
   "source": [
    "#calling the leastsq fitting function\n",
    "plsq = leastsq(residual_function, p0, args=(U_data, r_data))\n",
    "\n",
    "#extract the fitted parameters\n",
    "epsilon_fitted = plsq[0][0]\n",
    "sigma_fitted = plsq[0][1]\n",
    "\n",
    "print('epsilon, known = ', epsilon_data, ' || epsilon, fitted', epsilon_fitted)\n",
    "print('sigma, known = ', sigma_data, ' || sigma, fitted', sigma_fitted)\n",
    "\n",
    "#create two list\n",
    "r_fitted = []\n",
    "U_fitted = []\n",
    "\n",
    "#populate the lists with values using fitted parameters\n",
    "for i in range(0, r_step):\n",
    "    r = r_init + i*dr\n",
    "    r_fitted.append(r)\n",
    "    U_temp = 4.0*epsilon_fitted*( (sigma_fitted/r)**12.0 - (sigma_fitted/r)**6.0)\n",
    "    U_fitted.append(U_temp)\n",
    "\n",
    "#plot the target and fitted\n",
    "plt.figure()\n",
    "plt.plot(r_data, U_data, label = \"reference data\", markeredgecolor= 'black', \n",
    "         markersize= 7, color='white', marker='o', ls='')\n",
    "\n",
    "plt.plot(r_fitted, U_fitted, label = \"fit\", color='black', ls='--')\n",
    "\n",
    "plt.xlabel('r', fontsize= 16)\n",
    "plt.ylabel('U(r)', fontsize =16)\n",
    "\n",
    "plt.ylim(-3,14)\n",
    "\n",
    "plt.legend(loc=1, fontsize =16)\n",
    "plt.show()"
   ]
  },
  {
   "cell_type": "markdown",
   "metadata": {},
   "source": [
    "While the fitting produced nearly perfect results for the first set of data, for this set, sigma is close, but epsilon is under predicted. This is caused by the fact that the values of `U` at small `r`  are significantly larger than at large `r`, and thus contribute more significantly to the residual (and hence dominate).  This can be fixed by normalizing the values in the residual function.  "
   ]
  },
  {
   "cell_type": "code",
   "execution_count": 33,
   "metadata": {
    "collapsed": true
   },
   "outputs": [],
   "source": [
    "def residual_function(p, U, r):\n",
    "    epsilon, sigma = p\n",
    "    U_test = 4.0*epsilon*( (sigma/r)**(12) - (sigma/r)**(6))\n",
    "    U_known = U\n",
    "    norm = np.abs(U_known) + np.abs(U_test)\n",
    "    err = (U_known-U_test)/norm\n",
    "\n",
    "    return err"
   ]
  },
  {
   "cell_type": "markdown",
   "metadata": {},
   "source": [
    "Let us now test the new residual function and plot the results"
   ]
  },
  {
   "cell_type": "code",
   "execution_count": 34,
   "metadata": {
    "collapsed": false
   },
   "outputs": [
    {
     "name": "stdout",
     "output_type": "stream",
     "text": [
      "epsilon, known =  2.239  || epsilon, fitted 2.32878425099\n",
      "sigma, known =  1.392  || sigma, fitted 1.38591506364\n"
     ]
    },
    {
     "data": {
      "image/png": "[encoded data removed]",
      "text/plain": [
       "<matplotlib.figure.Figure at 0x11cd406a0>"
      ]
     },
     "metadata": {},
     "output_type": "display_data"
    }
   ],
   "source": [
    "#calling the leastsq fitting function\n",
    "plsq = leastsq(residual_function, p0, args=(Ud, rd))\n",
    "\n",
    "#extract the fitted parameters\n",
    "epsilon_fitted = plsq[0][0]\n",
    "sigma_fitted = plsq[0][1]\n",
    "\n",
    "print('epsilon, known = ', epsilon_data, ' || epsilon, fitted', epsilon_fitted)\n",
    "print('sigma, known = ', sigma_data, ' || sigma, fitted', sigma_fitted)\n",
    "\n",
    "#create two list\n",
    "r_fitted = []\n",
    "U_fitted = []\n",
    "\n",
    "#populate the lists with values using fitted parameters\n",
    "for i in range(0, r_step):\n",
    "    r = r_init + i*dr\n",
    "    r_fitted.append(r)\n",
    "    U_temp = 4.0*epsilon_fitted*( (sigma_fitted/r)**12.0 - (sigma_fitted/r)**6.0)\n",
    "    U_fitted.append(U_temp)\n",
    "\n",
    "#plot the target and fitted\n",
    "plt.figure()\n",
    "plt.plot(r_data, U_data, label = \"reference data\", markeredgecolor= 'black', \n",
    "         markersize= 7, color='white', marker='o', ls='')\n",
    "\n",
    "plt.plot(r_fitted, U_fitted, label = \"fit\", color='black', ls='--')\n",
    "\n",
    "plt.xlabel('r', fontsize= 16)\n",
    "plt.ylabel('U(r)', fontsize =16)\n",
    "\n",
    "plt.ylim(-3,14)\n",
    "\n",
    "plt.legend(loc=1, fontsize =16)\n",
    "plt.show()"
   ]
  },
  {
   "cell_type": "code",
   "execution_count": null,
   "metadata": {
    "collapsed": true
   },
   "outputs": [],
   "source": []
  }
 ],
 "metadata": {
  "kernelspec": {
   "display_name": "Python 3",
   "language": "python",
   "name": "python3"
  },
  "language_info": {
   "codemirror_mode": {
    "name": "ipython",
    "version": 3
   },
   "file_extension": ".py",
   "mimetype": "text/x-python",
   "name": "python",
   "nbconvert_exporter": "python",
   "pygments_lexer": "ipython3",
   "version": "3.6.0"
  }
 },
 "nbformat": 4,
 "nbformat_minor": 2
}
