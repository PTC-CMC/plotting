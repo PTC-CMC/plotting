{
 "cells": [
  {
   "cell_type": "markdown",
   "metadata": {},
   "source": [
    "matplotlib (mpl) is a powerful python package for publication-ready data vizualization"
   ]
  },
  {
   "cell_type": "code",
   "execution_count": 1,
   "metadata": {},
   "outputs": [
    {
     "data": {
      "text/plain": [
       "'2.0.2'"
      ]
     },
     "execution_count": 1,
     "metadata": {},
     "output_type": "execute_result"
    }
   ],
   "source": [
    "import matplotlib as mpl\n",
    "\n",
    "mpl.__version__"
   ]
  },
  {
   "cell_type": "markdown",
   "metadata": {},
   "source": [
    "It is recommended that you use or upgrade to version 2.0 for improved defaults, but older versions also work fine\n",
    "\n",
    "Normal use of matplotlib involves (only) the following import statement"
   ]
  },
  {
   "cell_type": "code",
   "execution_count": 2,
   "metadata": {
    "collapsed": true
   },
   "outputs": [],
   "source": [
    "import matplotlib.pyplot as plt"
   ]
  },
  {
   "cell_type": "markdown",
   "metadata": {
    "collapsed": true
   },
   "source": [
    "Let's import some data we can plot - here, the population of Nashville over time"
   ]
  },
  {
   "cell_type": "code",
   "execution_count": 3,
   "metadata": {
    "collapsed": true
   },
   "outputs": [],
   "source": [
    "import numpy as np\n",
    "data = np.asarray(np.loadtxt('data/nashville.txt'))\n",
    "date = data[:, 0]\n",
    "pop = data[:, 1]"
   ]
  },
  {
   "cell_type": "markdown",
   "metadata": {},
   "source": [
    "We can create a decent-looking plot in three lines of python code"
   ]
  },
  {
   "cell_type": "code",
   "execution_count": 4,
   "metadata": {},
   "outputs": [
    {
     "data": {
      "image/png": "[encoded data removed]",
      "text/plain": [
       "<matplotlib.figure.Figure at 0x10e76c9e8>"
      ]
     },
     "metadata": {},
     "output_type": "display_data"
    }
   ],
   "source": [
    "plt.figure()\n",
    "plt.plot(date, pop)\n",
    "plt.show()"
   ]
  },
  {
   "cell_type": "markdown",
   "metadata": {
    "collapsed": true
   },
   "source": [
    "We can also add details and options to better present the data"
   ]
  },
  {
   "cell_type": "code",
   "execution_count": 5,
   "metadata": {},
   "outputs": [
    {
     "data": {
      "image/png": "[encoded data removed]",
      "text/plain": [
       "<matplotlib.figure.Figure at 0x110d79198>"
      ]
     },
     "metadata": {},
     "output_type": "display_data"
    }
   ],
   "source": [
    "fig, ax = plt.subplots(figsize=(6, 3))\n",
    "ax.plot(date, pop, 'o-')\n",
    "ax.set_xlabel('Year')\n",
    "ax.set_ylabel('Population')\n",
    "ax.set_title('Population of Nashville over time')\n",
    "ax.set_ylim(ymin=0)\n",
    "ax.set_ylim(0, 700000)\n",
    "ax.set_xlim((1830, 2020))\n",
    "plt.show()"
   ]
  },
  {
   "cell_type": "markdown",
   "metadata": {},
   "source": [
    "Let's have a closer look at the recent population changing using a second plot (subplot)"
   ]
  },
  {
   "cell_type": "code",
   "execution_count": null,
   "metadata": {},
   "outputs": [],
   "source": [
    "fig, (ax1, ax2) = plt.subplots(1, 2, figsize=(8, 3))\n",
    "ax1.plot(date, pop, 'o-')\n",
    "ax1.set_xlabel('Year')\n",
    "ax1.set_ylabel('Population')\n",
    "ax1.set_title('Population of Nashville over time')\n",
    "ax1.set_ylim(ymin=0)\n",
    "ax1.set_xlim((1830, 2020))\n",
    "ax1.set_ylim(0, 700000)\n",
    "ax2.plot(date, pop, 'o-')\n",
    "ax2.set_xlabel('Year')\n",
    "ax2.set_ylabel('Population')\n",
    "ax2.set_title('Population of Nashville, Recent Years')\n",
    "ax2.set_xlim((1988, 2018))\n",
    "ax2.set_ylim(500000, 700000)\n",
    "plt.tight_layout()\n",
    "plt.show()"
   ]
  },
  {
   "cell_type": "markdown",
   "metadata": {},
   "source": [
    "If we like how our plot looks, we can save it to disk. PDF is the preferred format"
   ]
  },
  {
   "cell_type": "code",
   "execution_count": null,
   "metadata": {
    "scrolled": true
   },
   "outputs": [],
   "source": [
    "fig, (ax1, ax2) = plt.subplots(1, 2, figsize=(8, 3))\n",
    "ax1.plot(date, pop, 'o-')\n",
    "ax1.set_xlabel('Year')\n",
    "ax1.set_ylabel('Population')\n",
    "ax1.set_title('Population of Nashville over time')\n",
    "ax1.set_ylim(ymin=0)\n",
    "ax1.set_xlim((1830, 2020))\n",
    "ax2.plot(date[-8:], pop[-8:], 'o-')\n",
    "ax2.set_xlabel('Year')\n",
    "ax2.set_ylabel('Population')\n",
    "ax2.set_title('Population of Nashville, Recent Years')\n",
    "ax2.set_xlim((1988, 2018))\n",
    "ax2.set_ylim(500000, 700000)\n",
    "plt.tight_layout()\n",
    "plt.savefig('img/pop.pdf')\n",
    "plt.show()"
   ]
  },
  {
   "cell_type": "markdown",
   "metadata": {},
   "source": [
    "We can also use Seaborn to make our plots pretty in one line"
   ]
  },
  {
   "cell_type": "code",
   "execution_count": null,
   "metadata": {
    "collapsed": true
   },
   "outputs": [],
   "source": [
    "import seaborn as sns"
   ]
  },
  {
   "cell_type": "markdown",
   "metadata": {},
   "source": [
    "Now all of our plots will use a Seaborn style\n",
    "\n",
    "Seaborn has some other sets of styles that you can explore using sns.set_style().\n",
    "\n",
    "The list of custom styles is\n",
    "\n",
    "* darkgrid (default)\n",
    "\n",
    "* whitegrid\n",
    "\n",
    "* dark\n",
    "\n",
    "* white\n",
    "\n",
    "* ticks\n",
    "\n",
    "Note that none of our mpl code needs to be written differently"
   ]
  },
  {
   "cell_type": "code",
   "execution_count": null,
   "metadata": {},
   "outputs": [],
   "source": [
    "sns.set_style('whitegrid') # Change this line to see what different styles look like\n",
    "\n",
    "fig, (ax1, ax2) = plt.subplots(1, 2, figsize=(8, 3))\n",
    "ax1.plot(date, pop, 'o-')\n",
    "ax1.set_xlabel('Year')\n",
    "ax1.set_ylabel('Population')\n",
    "ax1.set_title('Population of Nashville over time')\n",
    "ax1.set_ylim(ymin=0)\n",
    "ax1.set_xlim((1830, 2020))\n",
    "ax2.plot(date[-8:], pop[-8:], 'o-')\n",
    "ax2.set_xlabel('Year')\n",
    "ax2.set_ylabel('Population')\n",
    "ax2.set_title('Population of Nashville, Recent Years')\n",
    "ax2.set_xlim((1988, 2018))\n",
    "ax2.set_ylim(500000, 700000)\n",
    "plt.tight_layout()\n",
    "plt.savefig('img/seaborn.pdf')\n",
    "plt.show()"
   ]
  },
  {
   "cell_type": "markdown",
   "metadata": {},
   "source": [
    "It is often useful to plot multiple sets of data on the same plot.\n",
    "\n",
    "This is straightforward to do in mpl with few lines of code.\n",
    "\n",
    "Let's import data of Austin, Portland, and Pittsburgh populations over time and plot them on the same figure"
   ]
  },
  {
   "cell_type": "code",
   "execution_count": null,
   "metadata": {
    "collapsed": true
   },
   "outputs": [],
   "source": [
    "nash = np.loadtxt('data/nashville.txt')\n",
    "aust = np.loadtxt('data/austin.txt')\n",
    "port = np.loadtxt('data/portland.txt') \n",
    "pitt = np.loadtxt('data/pittsburgh.txt')"
   ]
  },
  {
   "cell_type": "code",
   "execution_count": null,
   "metadata": {},
   "outputs": [],
   "source": [
    "sns.reset_orig()\n",
    "\n",
    "fig, (ax1, ax2) = plt.subplots(1, 2, figsize=(10, 4))\n",
    "ax1.plot(nash[:, 0], nash[:, 1], '-', label='Nashville')\n",
    "ax1.plot(aust[:, 0], aust[:, 1], '-', label='Austin')\n",
    "ax1.plot(port[:, 0], port[:, 1], '-', label='Portland')\n",
    "ax1.plot(pitt[:, 0], pitt[:, 1], '-', label='Pittsburgh')\n",
    "ax1.set_xlabel('Year')\n",
    "ax1.set_ylabel('Population')\n",
    "ax1.set_title('Population over time')\n",
    "ax1.legend(loc=0)\n",
    "ax1.set_ylim(ymin=0)\n",
    "ax2.plot(nash[:, 0], nash[:, 1], '.-', label='Nashville')\n",
    "ax2.plot(aust[:, 0], aust[:, 1], '.-', label='Austin')\n",
    "ax2.plot(port[:, 0], port[:, 1], '.-', label='Portland')\n",
    "ax2.plot(pitt[:, 0], pitt[:, 1], '.-', label='Pittsburgh')\n",
    "ax2.set_xlabel('Year')\n",
    "ax2.set_ylabel('Population')\n",
    "ax2.set_title('Population, Recent Years')\n",
    "ax2.set_xlim((1978, 2018))\n",
    "plt.tight_layout()\n",
    "plt.savefig('img/comparison.pdf')\n",
    "plt.show()"
   ]
  },
  {
   "cell_type": "markdown",
   "metadata": {},
   "source": [
    "Other resources:\n",
    "\n",
    "\n",
    "[pyplot documentation](https://matplotlib.org/api/pyplot_api.html) - lengthy but usually easy to find what is needed\n",
    "\n",
    "[Seaborn documentation](https://seaborn.pydata.org/) - If you want to explore different seaborn styles\n",
    "\n",
    "[Stack Overflow](https://stackoverflow.com/) - Google is likely to bring you here if you ask it a mplt question\n",
    "\n",
    "[Talk on colormaps](https://www.youtube.com/watch?v=xAoljeRJ3lU) - Colormaps are fun and useful, jet is bad"
   ]
  }
 ],
 "metadata": {
  "kernelspec": {
   "display_name": "Python 3",
   "language": "python",
   "name": "python3"
  },
  "language_info": {
   "codemirror_mode": {
    "name": "ipython",
    "version": 3
   },
   "file_extension": ".py",
   "mimetype": "text/x-python",
   "name": "python",
   "nbconvert_exporter": "python",
   "pygments_lexer": "ipython3",
   "version": "3.5.3"
  }
 },
 "nbformat": 4,
 "nbformat_minor": 2
}
